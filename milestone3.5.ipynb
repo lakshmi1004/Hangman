{
 "cells": [
  {
   "cell_type": "code",
   "execution_count": 3,
   "metadata": {},
   "outputs": [
    {
     "name": "stdout",
     "output_type": "stream",
     "text": [
      "['p', 'a', 'p', 'a', 'y', 'a']\n"
     ]
    }
   ],
   "source": [
    "import random\n",
    "\n",
    "word_list = [\"mango\", \"papaya\", \"grapes\", \"guava\", \"banana\"]\n",
    "word = random.choice(word_list) \n",
    "secret_word = list(word)\n",
    "print(secret_word)\n",
    "\n",
    "def check_guess(guess):\n",
    "    # Step 2: Convert the guess into lower case\n",
    "    guess = guess.lower()\n",
    "\n",
    "    # Step 3: Check if the guess is in the word\n",
    "    if guess in secret_word:\n",
    "        print(\"Good guess! '{}' is in the word\".format(guess))\n",
    "    else:\n",
    "        print(\"Sorry, '{}' is not in the word. Try again.\".format(guess))\n",
    "\n",
    "def ask_for_input():\n",
    "    while True:\n",
    "        # Step 2: Prompt the user to enter a single alphabetical letter\n",
    "        guess = input(\"Enter an alphabetical letter: \").lower()\n",
    "        \n",
    "        # Step 3: Check if the input is a valid guess\n",
    "        if len(guess) == 1 and guess.isalpha() and not guess.isdigit():\n",
    "            # Step 4: Call the check_guess function to check if the guess is in the word\n",
    "            check_guess(guess)\n",
    "            break\n",
    "        else:\n",
    "            print(\"Oops! This is not a valid input. Please enter only one alphabetical letter.\")\n",
    "\n",
    "# Step 4: Call the ask_for_input function to test the code\n",
    "#ask_for_input()\n"
   ]
  },
  {
   "cell_type": "code",
   "execution_count": 6,
   "metadata": {},
   "outputs": [
    {
     "name": "stdout",
     "output_type": "stream",
     "text": [
      "Sorry, 't' is not in the word. Try again.\n"
     ]
    }
   ],
   "source": [
    "ask_for_input()"
   ]
  }
 ],
 "metadata": {
  "kernelspec": {
   "display_name": "Hangman",
   "language": "python",
   "name": "python3"
  },
  "language_info": {
   "codemirror_mode": {
    "name": "ipython",
    "version": 3
   },
   "file_extension": ".py",
   "mimetype": "text/x-python",
   "name": "python",
   "nbconvert_exporter": "python",
   "pygments_lexer": "ipython3",
   "version": "3.12.1"
  }
 },
 "nbformat": 4,
 "nbformat_minor": 2
}
