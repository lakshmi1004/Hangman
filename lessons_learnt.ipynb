{
 "cells": [
  {
   "cell_type": "markdown",
   "metadata": {},
   "source": [
    "# Python Split String in List Method\n",
    "\n",
    "Below is the list of methods that we will use in this article:\n",
    "\n",
    "    Using unpack(*) method\n",
    "    Using a loop\n",
    "    Using List Comprehension\n",
    "    Using list() typecasting\n",
    "    Using extend() function\n",
    "    Using  itertools\n",
    "    Using List Slicing\n",
    "\n"
   ]
  },
  {
   "cell_type": "markdown",
   "metadata": {},
   "source": [
    "## 1. Python Split String in List using unpack(*) method\n",
    "\n",
    "The act of unpacking involves taking things out, specifically iterables like dictionaries, lists, and tuples."
   ]
  },
  {
   "cell_type": "code",
   "execution_count": 6,
   "metadata": {},
   "outputs": [
    {
     "name": "stdout",
     "output_type": "stream",
     "text": [
      "['a', 'p', 'p', 'l', 'e']\n"
     ]
    }
   ],
   "source": [
    "\n",
    "string = \"apple\"\n",
    "print([*string])\n"
   ]
  },
  {
   "cell_type": "markdown",
   "metadata": {},
   "source": [
    "## Python Split String in List using a loop\n",
    "\n",
    "Here, we are splitting the letters using the native way using the loop and then we are appending it to a new list.\n",
    "\n",
    "\n"
   ]
  },
  {
   "cell_type": "code",
   "execution_count": 7,
   "metadata": {},
   "outputs": [
    {
     "name": "stdout",
     "output_type": "stream",
     "text": [
      "['l', 'o', 'v', 'e', 'f', 'o', 'r', 'e', 'v', 'e', 'r']\n"
     ]
    }
   ],
   "source": [
    "string = 'loveforever'\n",
    "lst = []\n",
    " \n",
    "for letter in string:\n",
    "    lst.append(letter)\n",
    " \n",
    "print(lst)"
   ]
  },
  {
   "cell_type": "markdown",
   "metadata": {},
   "source": [
    "## Python Split String in List using List Comprehension\n",
    "This approach uses list comprehension to convert each character into a list. Using the following syntax you can split the characters of a string into a list."
   ]
  },
  {
   "cell_type": "code",
   "execution_count": 8,
   "metadata": {},
   "outputs": [
    {
     "name": "stdout",
     "output_type": "stream",
     "text": [
      "['l', 'o', 'v', 'e']\n"
     ]
    }
   ],
   "source": [
    "\n",
    "string = \"love\"\n",
    "letter = [x for x in string]\n",
    "print(letter)\n"
   ]
  },
  {
   "cell_type": "markdown",
   "metadata": {},
   "source": [
    "## Python Split String using a list() typecasting\n",
    "\n",
    "Python provides direct typecasting of strings into a list using Python list().\n"
   ]
  },
  {
   "cell_type": "code",
   "execution_count": 9,
   "metadata": {},
   "outputs": [
    {
     "name": "stdout",
     "output_type": "stream",
     "text": [
      "['f', 'i', 'r', 'e']\n"
     ]
    }
   ],
   "source": [
    "def split(word):\n",
    "    return list(word)\n",
    "     \n",
    "# Driver code\n",
    "word = 'fire'\n",
    "print(split(word))"
   ]
  },
  {
   "cell_type": "markdown",
   "metadata": {},
   "source": [
    "## Python Split String in List using Extend() Function\n",
    "\n",
    "Extend() iterates over its input, expanding the list, and adding each member.\n"
   ]
  },
  {
   "cell_type": "code",
   "execution_count": null,
   "metadata": {},
   "outputs": [],
   "source": [
    "string = 'Geeks@for'\n",
    "lst = []\n",
    "lst.extend(string)\n",
    "print(lst)\n"
   ]
  },
  {
   "cell_type": "markdown",
   "metadata": {},
   "source": [
    "## Python Split String using  Itertools\n",
    "\n",
    "In Python, you can split a string into a list of characters using the itertools module. You need to convert the string into an iterable sequence (e.g., a list, tuple, or string itself) of individual character"
   ]
  },
  {
   "cell_type": "code",
   "execution_count": 11,
   "metadata": {},
   "outputs": [
    {
     "name": "stdout",
     "output_type": "stream",
     "text": [
      "['d', 'o', 'u', 'b', 'l', 'e']\n"
     ]
    }
   ],
   "source": [
    "import itertools\n",
    "\n",
    "string = \"double\"\n",
    "letter = list(itertools.chain.from_iterable(string))\n",
    "print(letter)\n"
   ]
  },
  {
   "cell_type": "markdown",
   "metadata": {},
   "source": [
    "## ython Split String in List using List Slicing\n",
    "\n",
    "In Python, you can split a string into a list of characters using list slicing. List slicing is a technique that allows you to extract a portion of a list (or string) by specifying the start and end indices.\n",
    "\n"
   ]
  },
  {
   "cell_type": "code",
   "execution_count": 12,
   "metadata": {},
   "outputs": [
    {
     "name": "stdout",
     "output_type": "stream",
     "text": [
      "['c', 'l', 'o', 'u', 'd', 'm', 'o', 'u', 'n', 'a', 't', 'i', 'n']\n"
     ]
    }
   ],
   "source": [
    "string = 'cloudmounatin'\n",
    "lst = []\n",
    "lst[:] = string\n",
    "print(lst)\n"
   ]
  }
 ],
 "metadata": {
  "kernelspec": {
   "display_name": "Hangman",
   "language": "python",
   "name": "python3"
  },
  "language_info": {
   "codemirror_mode": {
    "name": "ipython",
    "version": 3
   },
   "file_extension": ".py",
   "mimetype": "text/x-python",
   "name": "python",
   "nbconvert_exporter": "python",
   "pygments_lexer": "ipython3",
   "version": "3.12.1"
  }
 },
 "nbformat": 4,
 "nbformat_minor": 2
}
