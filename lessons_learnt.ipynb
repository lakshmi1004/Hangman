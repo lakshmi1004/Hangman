{
 "cells": [
  {
   "cell_type": "markdown",
   "metadata": {},
   "source": [
    "# Python Split String in List Method\n",
    "\n",
    "Below is the list of methods that we will use in this article:\n",
    "\n",
    "    Using unpack(*) method\n",
    "    Using a loop\n",
    "    Using List Comprehension\n",
    "    Using list() typecasting\n",
    "    Using extend() function\n",
    "    Using  itertools\n",
    "    Using List Slicing\n",
    "\n",
    "git clon"
   ]
  },
  {
   "cell_type": "markdown",
   "metadata": {},
   "source": [
    "## 1. Python Split String in List using unpack(*) method\n",
    "\n",
    "The act of unpacking involves taking things out, specifically iterables like dictionaries, lists, and tuples."
   ]
  },
  {
   "cell_type": "code",
   "execution_count": 6,
   "metadata": {},
   "outputs": [
    {
     "name": "stdout",
     "output_type": "stream",
     "text": [
      "['a', 'p', 'p', 'l', 'e']\n"
     ]
    }
   ],
   "source": [
    "\n",
    "string = \"apple\"\n",
    "print([*string])\n"
   ]
  },
  {
   "cell_type": "markdown",
   "metadata": {},
   "source": [
    "## Python Split String in List using a loop\n",
    "\n",
    "Here, we are splitting the letters using the native way using the loop and then we are appending it to a new list.\n",
    "\n",
    "\n"
   ]
  },
  {
   "cell_type": "code",
   "execution_count": 7,
   "metadata": {},
   "outputs": [
    {
     "name": "stdout",
     "output_type": "stream",
     "text": [
      "['l', 'o', 'v', 'e', 'f', 'o', 'r', 'e', 'v', 'e', 'r']\n"
     ]
    }
   ],
   "source": [
    "string = 'loveforever'\n",
    "lst = []\n",
    " \n",
    "for letter in string:\n",
    "    lst.append(letter)\n",
    " \n",
    "print(lst)"
   ]
  },
  {
   "cell_type": "markdown",
   "metadata": {},
   "source": [
    "## Python Split String in List using List Comprehension\n",
    "This approach uses list comprehension to convert each character into a list. Using the following syntax you can split the characters of a string into a list."
   ]
  },
  {
   "cell_type": "code",
   "execution_count": 8,
   "metadata": {},
   "outputs": [
    {
     "name": "stdout",
     "output_type": "stream",
     "text": [
      "['l', 'o', 'v', 'e']\n"
     ]
    }
   ],
   "source": [
    "\n",
    "string = \"love\"\n",
    "letter = [x for x in string]\n",
    "print(letter)\n"
   ]
  },
  {
   "cell_type": "markdown",
   "metadata": {},
   "source": [
    "## Python Split String using a list() typecasting\n",
    "\n",
    "Python provides direct typecasting of strings into a list using Python list().\n"
   ]
  },
  {
   "cell_type": "code",
   "execution_count": 9,
   "metadata": {},
   "outputs": [
    {
     "name": "stdout",
     "output_type": "stream",
     "text": [
      "['f', 'i', 'r', 'e']\n"
     ]
    }
   ],
   "source": [
    "def split(word):\n",
    "    return list(word)\n",
    "     \n",
    "# Driver code\n",
    "word = 'fire'\n",
    "print(split(word))"
   ]
  },
  {
   "cell_type": "markdown",
   "metadata": {},
   "source": [
    "## Python Split String in List using Extend() Function\n",
    "\n",
    "Extend() iterates over its input, expanding the list, and adding each member.\n"
   ]
  },
  {
   "cell_type": "code",
   "execution_count": null,
   "metadata": {},
   "outputs": [],
   "source": [
    "string = 'Geeks@for'\n",
    "lst = []\n",
    "lst.extend(string)\n",
    "print(lst)\n"
   ]
  },
  {
   "cell_type": "markdown",
   "metadata": {},
   "source": [
    "## Python Split String using  Itertools\n",
    "\n",
    "In Python, you can split a string into a list of characters using the itertools module. You need to convert the string into an iterable sequence (e.g., a list, tuple, or string itself) of individual character"
   ]
  },
  {
   "cell_type": "code",
   "execution_count": 11,
   "metadata": {},
   "outputs": [
    {
     "name": "stdout",
     "output_type": "stream",
     "text": [
      "['d', 'o', 'u', 'b', 'l', 'e']\n"
     ]
    }
   ],
   "source": [
    "import itertools\n",
    "\n",
    "string = \"double\"\n",
    "letter = list(itertools.chain.from_iterable(string))\n",
    "print(letter)\n"
   ]
  },
  {
   "cell_type": "markdown",
   "metadata": {},
   "source": [
    "## ython Split String in List using List Slicing\n",
    "\n",
    "In Python, you can split a string into a list of characters using list slicing. List slicing is a technique that allows you to extract a portion of a list (or string) by specifying the start and end indices.\n",
    "\n"
   ]
  },
  {
   "cell_type": "code",
   "execution_count": 12,
   "metadata": {},
   "outputs": [
    {
     "name": "stdout",
     "output_type": "stream",
     "text": [
      "['c', 'l', 'o', 'u', 'd', 'm', 'o', 'u', 'n', 'a', 't', 'i', 'n']\n"
     ]
    }
   ],
   "source": [
    "string = 'cloudmounatin'\n",
    "lst = []\n",
    "lst[:] = string\n",
    "print(lst)\n"
   ]
  },
  {
   "cell_type": "code",
   "execution_count": null,
   "metadata": {},
   "outputs": [],
   "source": []
  },
  {
   "cell_type": "markdown",
   "metadata": {},
   "source": [
    "# Git hub\n",
    "    If your local repository is not synchronized with the remote (usually called \"origin\"), it means your local master branch is not up to date with the master branch on the remote repository.\n",
    "\n",
    "Here's what you can do to sync your local master branch with the remote master branch:\n",
    "\n",
    "    Check Remote Status: First, ensure that your local repository is aware of the remote repository and that you have the correct remote URL configured. You can do this by running:\n",
    "\n",
    "git remote -v\n",
    "\n",
    "This command will show you the remote repositories associated with your local repository.\n",
    "\n",
    "Fetch Changes from Remote: Fetch the latest changes from the remote repository. This command will not merge the changes into your local branch; it will only download the latest changes from the remote:\n",
    "\n",
    "sql\n",
    "\n",
    "git fetch origin\n",
    "\n",
    "Merge Changes into Local Branch: Once you have fetched the changes, you can merge them into your local master branch. If you're sure you want to merge the remote master into your local master, you can do this:\n",
    "\n",
    "bash\n",
    "\n",
    "git merge origin/master\n",
    "\n",
    "Resolve Conflicts (if any): If there are any merge conflicts, Git will notify you. You'll need to resolve these conflicts manually by editing the affected files and then committing the changes.\n",
    "\n",
    "Push Changes (if desired): After merging the changes and resolving any conflicts, you might want to push your updated master branch to the remote repository to keep it in sync:\n",
    "\n",
    "perl\n",
    "\n",
    "git push origin master\n",
    "\n",
    "Verify: Verify that your local master branch is now up to date with the remote by checking the commit history or comparing the branches:\n",
    "\n",
    "bash\n",
    "\n",
    "    git log\n",
    "    git branch -vv\n",
    "\n",
    "These steps should help you synchronize your local master branch with the remote master branch. Make sure to understand the implications of fetching and merging changes, especially if you're working in a team environment.\n",
    "\n"
   ]
  },
  {
   "cell_type": "markdown",
   "metadata": {},
   "source": [
    "## Python: Self  - why  some varibale not using self??\n",
    "\n",
    "In Python, when defining methods within a class, the first parameter conventionally represents the instance of the class itself and is typically named self. This parameter is used to access instance variables and other methods within the class.\n",
    "\n",
    "However, not all parameters within a method need to be accessed through self. Here are some common cases where you might not use self:\n",
    "\n",
    "    Local Variables: Variables that are used only within the scope of a method and don't need to be accessed outside of it can be defined without self. These variables are typically used for temporary calculations or storage within the method.\n",
    "\n",
    "    Parameters Passed to the Method: Parameters that are passed to the method when it's called are not accessed through self. These parameters represent the inputs to the method and are used directly within the method's body.\n",
    "\n",
    "    Class Attributes Accessed via self: Class attributes, including instance variables and other methods, are accessed using self. These are variables or methods that belong to the instance of the class and can be accessed across different methods within the class.\n",
    "\n",
    "Here's an example to illustrate these concepts:\n",
    "\n",
    "python\n",
    "\n",
    "class MyClass:\n",
    "    def __init__(self, x):\n",
    "        self.x = x  # 'x' is accessed using 'self' because it's an instance variable\n",
    "\n",
    "    def method1(self, y):\n",
    "        z = self.x + y  # 'self.x' is accessed using 'self', 'y' is a parameter passed to the method\n",
    "        return z\n",
    "\n",
    "    def method2(self):\n",
    "        a = 10  # 'a' is a local variable, not accessed through 'self'\n",
    "        return a\n",
    "\n",
    "# Example usage:\n",
    "obj = MyClass(5)\n",
    "result1 = obj.method1(3)  # Calling method1 with 'y' = 3\n",
    "result2 = obj.method2()   # Calling method2\n",
    "\n",
    "In this example:\n",
    "\n",
    "    x is an instance variable accessed using self.\n",
    "    y is a parameter passed to method1 and accessed directly within the method.\n",
    "    z is a local variable used within method1.\n",
    "    a is a local variable used within method2"
   ]
  }
 ],
 "metadata": {
  "kernelspec": {
   "display_name": "Hangman",
   "language": "python",
   "name": "python3"
  },
  "language_info": {
   "codemirror_mode": {
    "name": "ipython",
    "version": 3
   },
   "file_extension": ".py",
   "mimetype": "text/x-python",
   "name": "python",
   "nbconvert_exporter": "python",
   "pygments_lexer": "ipython3",
   "version": "3.12.1"
  }
 },
 "nbformat": 4,
 "nbformat_minor": 2
}
